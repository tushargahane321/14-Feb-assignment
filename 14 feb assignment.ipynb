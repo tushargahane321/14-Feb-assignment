{
 "cells": [
  {
   "cell_type": "code",
   "execution_count": null,
   "id": "262d1318-cc39-4740-bf48-a15fb347237d",
   "metadata": {},
   "outputs": [],
   "source": [
    "Q1.What is multithreading in python? hy is it used? Name the module used to handle threads in python."
   ]
  },
  {
   "cell_type": "markdown",
   "id": "64a737ca-c7dd-40ae-997c-d6189d50895a",
   "metadata": {},
   "source": [
    "Answer :Multithreading in Python refers to the ability of a program to create and execute multiple threads simultaneously, allowing multiple tasks to be performed concurrently. A thread is a lightweight subprocess that runs concurrently with other threads in a single process.\n",
    "\n",
    "Multithreading is used in Python to improve the performance of programs that have tasks that can be executed concurrently. By using threads, the program can perform multiple tasks simultaneously, which can significantly reduce the execution time of the program. Multithreading is particularly useful for I/O-bound tasks, such as reading from or writing to files, network communication, or database access, as threads can overlap I/O operations to increase efficiency.\n",
    "\n",
    "The module used to handle threads in Python is called threading. It provides a simple and easy-to-use interface for creating and managing threads in Python. The threading module allows you to create and start new threads, pause and resume existing threads, and communicate between threads using synchronization primitives such as locks, events, and semaphores."
   ]
  },
  {
   "cell_type": "code",
   "execution_count": null,
   "id": "9203e491-d67c-45c4-a87a-341afa0be32a",
   "metadata": {},
   "outputs": [],
   "source": [
    "Q2. Why threading module used? Write the use of the following functions \n",
    "a. activeCount() \n",
    "b. currentThread() \n",
    "c. enumerate()"
   ]
  },
  {
   "cell_type": "markdown",
   "id": "74509335-7aaf-472a-ae04-096b38a5d392",
   "metadata": {},
   "source": [
    " Answer :The threading module in Python is used for creating and managing threads in a program. It provides a simple and efficient way to implement concurrency in Python programs. Here are the uses of some of the functions provided by the threading module:\n",
    "\n",
    "a. activeCount(): This function returns the number of Thread objects that are currently active in the current Python interpreter. An active thread is a thread that has been created but has not yet finished its execution.\n",
    "\n",
    "b. currentThread(): This function returns a reference to the current thread object. The current thread is the thread that is currently executing the Python code.\n",
    "\n",
    "c. enumerate(): This function returns a list of all Thread objects that are currently active in the current Python interpreter. Each Thread object in the list represents a separate thread of execution. The list includes the main thread, as well as any additional threads that have been created using the threading module.\n",
    "\n",
    "The enumerate() function can be used to iterate over all active threads and perform some action on each thread. For example, you can use it to check the status of each thread, pause or resume a specific thread, or terminate a thread if necessary. Overall, these functions are useful for managing and debugging threads in a Python program, and they provide an easy way to access information about the current state of the threading system."
   ]
  },
  {
   "cell_type": "code",
   "execution_count": null,
   "id": "107a9c18-8675-42ec-856c-5539c35c462c",
   "metadata": {},
   "outputs": [],
   "source": [
    "Q3. Explain the following functions:\n",
    "1.run()\n",
    "2.start()\n",
    "3.join()\n",
    "4.isAlive()"
   ]
  },
  {
   "cell_type": "markdown",
   "id": "20769f18-41c1-4510-89f4-4f56fe57846a",
   "metadata": {},
   "source": [
    "Answer:In Python's threading module, the following functions are related to the creation, execution, and management of threads:\n",
    "\n",
    "a. run(): This is the method that is executed when a thread is started using the start() method. This method can be overridden in a subclass to define the behavior of the thread.\n",
    "\n",
    "b. start(): This method starts a new thread of execution. When called, it creates a new thread and calls the run() method of the thread. The start() method does not wait for the thread to finish executing; instead, it returns immediately, allowing the calling thread to continue its own execution.\n",
    "\n",
    "c. join(): This method waits for the thread to finish executing before the calling thread can continue. When called, it blocks the calling thread until the thread being joined completes its execution. The join() method is typically used to ensure that a thread has finished executing before the main program exits or before another thread needs to access data that the first thread is modifying.\n",
    "\n",
    "d. isAlive(): This method returns a boolean value indicating whether the thread is currently executing or not. If the thread has finished executing, this method returns False; otherwise, it returns True. The isAlive() method can be used to check whether a thread is still running before calling the join() method.\n",
    "\n",
    "Overall, these methods are important for managing threads in a Python program. The start() and run() methods are used to start a new thread and define its behavior, respectively. The join() method is used to wait for a thread to finish executing before continuing, while the isAlive() method is used to check whether a thread is still running or not.\n",
    "\n"
   ]
  },
  {
   "cell_type": "code",
   "execution_count": null,
   "id": "f3b983f1-55eb-45a6-9d4d-72f027087028",
   "metadata": {},
   "outputs": [],
   "source": [
    "Q4. Write a python program to create two threads. Thread one must print the list of squares and thread\n",
    "two must print the list of cubes"
   ]
  },
  {
   "cell_type": "markdown",
   "id": "03570e7f-1b6e-4620-a29f-ae5fdcebe56b",
   "metadata": {},
   "source": [
    "Answer: the print_squares() function prints the list of squares of numbers from 1 to n, and the print_cubes() function prints the list of cubes of numbers from 1 to n. Two threads are created using the Thread class from the threading module, one for each function. The start() method is called on both threads to start their execution, and the join() method is called on both threads to wait for their completion. Finally, a message is printed indicating that the program has finished executing. When run, this program should print the list of squares and cubes in parallel, interleaving the output of the two threads."
   ]
  },
  {
   "cell_type": "code",
   "execution_count": 7,
   "id": "34f4b219-efa5-4381-bd92-74e3b8e26244",
   "metadata": {},
   "outputs": [
    {
     "name": "stdout",
     "output_type": "stream",
     "text": [
      "1**2 = 1\n",
      "2**2 = 4\n",
      "3**2 = 9\n",
      "4**2 = 16\n",
      "5**2 = 25\n",
      "6**2 = 36\n",
      "7**2 = 49\n",
      "8**2 = 64\n",
      "9**2 = 81\n",
      "10**2 = 100\n",
      "1**2 = 1\n",
      "2**2 = 4\n",
      "3**2 = 9\n",
      "4**2 = 16\n",
      "5**2 = 25\n",
      "6**2 = 36\n",
      "7**2 = 49\n",
      "8**2 = 64\n",
      "9**2 = 81\n",
      "10**2 = 100\n"
     ]
    }
   ],
   "source": [
    "import threading\n",
    "\n",
    "def print_squares(n):\n",
    "    for i in range(1,n+1):\n",
    "        print(f\"{i}**2 = {i*i}\")\n",
    "        \n",
    "def print_cubes(n):\n",
    "    for i in range(1, n+1):\n",
    "        print(f\"{i}**3 = {i*i*i}\")\n",
    "\n",
    "# Create two threads to print squares and cubes\n",
    "t1 = threading.Thread(target=print_squares,args=(10,))\n",
    "t2 = threading.Thread(target=print_squares,args=(10,)) \n",
    "\n",
    "# Start threads\n",
    "t1.start()\n",
    "t2.start()\n",
    "\n",
    "#wait for threads to finish\n",
    "t1.join()\n",
    "t2.join()"
   ]
  },
  {
   "cell_type": "code",
   "execution_count": null,
   "id": "1880eb39-2f53-4e9c-a055-d8f1524e4156",
   "metadata": {},
   "outputs": [],
   "source": [
    "Q5. State advantages and disadvantages of multithreading"
   ]
  },
  {
   "cell_type": "markdown",
   "id": "1eb88d53-acf6-4ccf-901f-5d67b663dc40",
   "metadata": {},
   "source": [
    "Answer :Multithreading, which is the ability to run multiple threads of execution within a single process, has several advantages and disadvantages. Here are some of the major ones:\n",
    "\n",
    "Advantages of Multithreading:\n",
    "\n",
    "a.Improved performance: Multithreading can improve the performance of a program by allowing it to execute multiple tasks in parallel, thereby reducing the overall time taken to complete a task. b. Better resource utilization: Multithreading allows multiple threads to share the same resources such as memory and CPU, resulting in better utilization of resources. c. Responsiveness: Multithreading can make a program more responsive by allowing it to perform multiple tasks simultaneously, such as accepting user input while performing a background task. d. Simplified programming: Multithreading can simplify programming by allowing complex tasks to be broken down into smaller, more manageable threads. e. Better scalability: Multithreading allows a program to scale better by adding more threads to handle increasing workloads.\n",
    "\n",
    "Disadvantages of Multithreading:\n",
    "\n",
    "a. Increased complexity: Multithreading can add complexity to a program by requiring more careful coordination and synchronization of the threads, which can increase the chances of errors and bugs. b. Difficulty in debugging: Debugging multithreaded programs can be difficult because the execution of threads can be non-deterministic and hard to reproduce. c. Increased resource usage: Multithreading can increase the resource usage of a program, such as memory and CPU usage, due to the overhead of creating and managing multiple threads. d. Increased programming effort: Writing multithreaded programs can require additional effort to manage thread creation, synchronization, and communication between threads. e. Race conditions: Multithreading can introduce race conditions, where two or more threads access the same shared data at the same time, potentially resulting in incorrect or inconsistent behavior.\n",
    "\n",
    "Overall, multithreading can be a powerful tool for improving the performance and responsiveness of a program, but it also introduces additional complexity and requires careful management to avoid issues such as race conditions and synchronization problems.\n",
    "\n"
   ]
  },
  {
   "cell_type": "code",
   "execution_count": null,
   "id": "ba099a22-d7a6-4eec-beb4-588ae251b0e9",
   "metadata": {},
   "outputs": [],
   "source": [
    "Q6. Explain deadlocks and race conditions."
   ]
  },
  {
   "cell_type": "markdown",
   "id": "a3f79d88-3a18-41de-a291-b8d9e5ce7303",
   "metadata": {},
   "source": [
    "Answer :Deadlocks and race conditions are two types of concurrency issues that can occur in multithreaded programs.\n",
    "\n",
    "a. Deadlocks: A deadlock occurs when two or more threads are blocked, waiting for each other to release a resource, resulting in a situation where no thread can make progress. In other words, each thread is waiting for another thread to release a resource it needs, resulting in a deadlock. Deadlocks can occur in situations where multiple threads are trying to access shared resources such as memory or locks.\n",
    "\n",
    "For example, consider two threads, A and B, where thread A holds a lock on resource 1 and is waiting to acquire a lock on resource 2, while thread B holds a lock on resource 2 and is waiting to acquire a lock on resource 1. Neither thread can proceed, resulting in a deadlock.\n",
    "\n",
    "b.Race conditions: A race condition occurs when the behavior of a program depends on the timing and order of thread execution, leading to unpredictable and often incorrect behavior. In other words, the output of the program depends on which thread executes first and how long each thread takes to execute. Race conditions can occur when multiple threads access shared resources such as memory or files without proper synchronization.\n",
    "\n",
    "For example, consider two threads, A and B, where thread A reads a variable, modifies it, and writes it back, while thread B reads the same variable, modifies it, and writes it back. If both threads access the variable at the same time without proper synchronization, the final value of the variable may be unpredictable and depend on the timing and order of the thread execution.\n",
    "\n",
    "To avoid deadlocks and race conditions, multithreaded programs need to carefully manage shared resources and use synchronization mechanisms such as locks, semaphores, and condition variables to ensure that threads access shared resources in a safe and coordinated manner.\n",
    "\n"
   ]
  }
 ],
 "metadata": {
  "kernelspec": {
   "display_name": "Python 3 (ipykernel)",
   "language": "python",
   "name": "python3"
  },
  "language_info": {
   "codemirror_mode": {
    "name": "ipython",
    "version": 3
   },
   "file_extension": ".py",
   "mimetype": "text/x-python",
   "name": "python",
   "nbconvert_exporter": "python",
   "pygments_lexer": "ipython3",
   "version": "3.10.8"
  }
 },
 "nbformat": 4,
 "nbformat_minor": 5
}
